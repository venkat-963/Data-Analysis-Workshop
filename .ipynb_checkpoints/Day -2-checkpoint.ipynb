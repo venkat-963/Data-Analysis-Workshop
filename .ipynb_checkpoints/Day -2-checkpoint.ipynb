{
 "cells": [
  {
   "cell_type": "markdown",
   "metadata": {},
   "source": [
    "# ~Heading1~\n",
    "## heading2\n",
    "### heading3\n",
    "#### heading4\n",
    "##### heading 5\n",
    "###### heading 6"
   ]
  },
  {
   "cell_type": "markdown",
   "metadata": {},
   "source": [
    "- Hi Alex\n",
    " - hi gopi\n",
    "   - hi\n",
    "   - ~hello~ ~**moto**~"
   ]
  },
  {
   "cell_type": "markdown",
   "metadata": {},
   "source": [
    "<img src=\"https://developer-tech.com/wp-content/uploads/sites/3/2020/12/python-right-business-programming-language-software-development-enterprise.jpg\">"
   ]
  },
  {
   "cell_type": "markdown",
   "metadata": {},
   "source": [
    "<img src=\"https://cdn.arstechnica.net/wp-content/uploads/2019/10/GettyImages-977644614-800x869.jpg\" height=100px width=100px>"
   ]
  },
  {
   "cell_type": "markdown",
   "metadata": {},
   "source": [
    "[GOPI](https://www.python.org)"
   ]
  },
  {
   "cell_type": "markdown",
   "metadata": {},
   "source": [
    "## Files"
   ]
  },
  {
   "cell_type": "markdown",
   "metadata": {},
   "source": [
    "- open()\n",
    "- read()\n",
    "- write()\n",
    "- readlines()\n",
    "- close()"
   ]
  },
  {
   "cell_type": "code",
   "execution_count": 25,
   "metadata": {},
   "outputs": [],
   "source": [
    "f= open('data.txt','w')\n",
    "data= \"Hi This is Gopi\"\n",
    "f.write(data)\n",
    "f.close()\n"
   ]
  },
  {
   "cell_type": "code",
   "execution_count": 12,
   "metadata": {},
   "outputs": [
    {
     "name": "stdout",
     "output_type": "stream",
     "text": [
      "Hi This is Gopi\n"
     ]
    }
   ],
   "source": [
    "f=open('C:/Users/venka/Desktop/Data Analysis Workshop/data.txt','r')\n",
    "for i in f:\n",
    "    print(i)"
   ]
  },
  {
   "cell_type": "code",
   "execution_count": 28,
   "metadata": {},
   "outputs": [
    {
     "name": "stdout",
     "output_type": "stream",
     "text": [
      "Hi This is Gopi\n"
     ]
    }
   ],
   "source": [
    "f=open('data.txt','r')\n",
    "d=f.read()\n",
    "print(d)\n",
    "\n"
   ]
  },
  {
   "cell_type": "code",
   "execution_count": 42,
   "metadata": {},
   "outputs": [
    {
     "name": "stdout",
     "output_type": "stream",
     "text": [
      "I am studying III year\n",
      "I am studying III year\n",
      " cool\n"
     ]
    }
   ],
   "source": [
    "f=open('data.txt','a')\n",
    "s='\\n cool'\n",
    "f.write(s)\n",
    "f.close()\n",
    "f=open('data.txt','r')\n",
    "print(f.read())"
   ]
  },
  {
   "cell_type": "code",
   "execution_count": 84,
   "metadata": {},
   "outputs": [
    {
     "name": "stdout",
     "output_type": "stream",
     "text": [
      "ravi -> 340\n",
      "anil -> 280\n",
      "ravi->340\n",
      "anil->280\n",
      "\n"
     ]
    }
   ],
   "source": [
    "f=open('marks.txt','r')\n",
    "s=open('final.txt','w')\n",
    "d=f.readlines()\n",
    "for i in d:\n",
    "    words=i.split()\n",
    "    name=words[0]\n",
    "    #total=int(words[1])+int(words[2])+int(words[3])+int(words[4])\n",
    "    total=sum(list(map(int,words[1:])))\n",
    "    s.write(name+\"->\"+str(total)+\"\\n\")\n",
    "    print(name,\"->\",total)\n",
    "\n",
    "s=open('final.txt','r')\n",
    "print(s.read())"
   ]
  },
  {
   "cell_type": "markdown",
   "metadata": {},
   "source": [
    "# REGULAR EXPRESSION"
   ]
  },
  {
   "cell_type": "code",
   "execution_count": 1,
   "metadata": {},
   "outputs": [],
   "source": [
    "import re"
   ]
  },
  {
   "cell_type": "code",
   "execution_count": 11,
   "metadata": {},
   "outputs": [
    {
     "data": {
      "text/plain": [
       "<re.Match object; span=(0, 1), match='G'>"
      ]
     },
     "execution_count": 11,
     "metadata": {},
     "output_type": "execute_result"
    }
   ],
   "source": [
    "a=\"Gopi\"\n",
    "re.match('G',a)\n"
   ]
  },
  {
   "cell_type": "code",
   "execution_count": 16,
   "metadata": {},
   "outputs": [
    {
     "data": {
      "text/plain": [
       "<re.Match object; span=(4, 5), match='b'>"
      ]
     },
     "execution_count": 16,
     "metadata": {},
     "output_type": "execute_result"
    }
   ],
   "source": [
    "a='gopibb'\n",
    "re.search('b',a)\n"
   ]
  },
  {
   "cell_type": "code",
   "execution_count": 15,
   "metadata": {},
   "outputs": [
    {
     "data": {
      "text/plain": [
       "['b', 'b', 'b', 'b', 'b']"
      ]
     },
     "execution_count": 15,
     "metadata": {},
     "output_type": "execute_result"
    }
   ],
   "source": [
    "a='gopibbbbb'\n",
    "re.findall('b',a)"
   ]
  },
  {
   "cell_type": "markdown",
   "metadata": {},
   "source": [
    "# ^ \n",
    "- matches the begining of the line"
   ]
  },
  {
   "cell_type": "code",
   "execution_count": 17,
   "metadata": {},
   "outputs": [],
   "source": [
    "a='Gopik'\n",
    "re.search('^k',a)"
   ]
  },
  {
   "cell_type": "markdown",
   "metadata": {},
   "source": [
    "# $\n",
    "- matches the ending of a line\n"
   ]
  },
  {
   "cell_type": "code",
   "execution_count": 24,
   "metadata": {},
   "outputs": [],
   "source": [
    "a='kGopi'\n",
    "re.search('k$',a)"
   ]
  },
  {
   "cell_type": "markdown",
   "metadata": {},
   "source": [
    "# .\n",
    "  - matches the any character"
   ]
  },
  {
   "cell_type": "code",
   "execution_count": 28,
   "metadata": {},
   "outputs": [
    {
     "data": {
      "text/plain": [
       "<re.Match object; span=(0, 3), match='Gop'>"
      ]
     },
     "execution_count": 28,
     "metadata": {},
     "output_type": "execute_result"
    }
   ],
   "source": [
    "a='Gopi'\n",
    "re.search('...',a)     #(....) = .{4}"
   ]
  },
  {
   "cell_type": "code",
   "execution_count": 40,
   "metadata": {},
   "outputs": [
    {
     "name": "stdout",
     "output_type": "stream",
     "text": [
      "Gopi\n",
      "isha\n",
      "Alex\n",
      "Ruhi\n"
     ]
    }
   ],
   "source": [
    "a=['Gopi','isha','Alex','Ruhi']\n",
    "for i in a:\n",
    "    if re.search('.{4}',i):                                    # it will print letters more than 4 also \n",
    "        print(i)"
   ]
  },
  {
   "cell_type": "code",
   "execution_count": 41,
   "metadata": {},
   "outputs": [
    {
     "name": "stdout",
     "output_type": "stream",
     "text": [
      "Gopi\n",
      "adsf\n"
     ]
    }
   ],
   "source": [
    "# how to print exact 4 letter word\n",
    "a=['Gopi','kk','k','sdfljl','adsf']\n",
    "for i in a:\n",
    "    if re.search('^.{4}$',i):\n",
    "        print(i)"
   ]
  },
  {
   "cell_type": "code",
   "execution_count": 52,
   "metadata": {},
   "outputs": [
    {
     "name": "stdout",
     "output_type": "stream",
     "text": [
      "Gopi\n"
     ]
    }
   ],
   "source": [
    "# how to set min and max range of letters in a string\n",
    "a=['Gopi','kk','k','sdfljl','kkkkk','adadfasf']\n",
    "for i in a:\n",
    "    if re.search('^G.{3}$',i):\n",
    "        print(i)"
   ]
  },
  {
   "cell_type": "markdown",
   "metadata": {},
   "source": [
    "##  \\d ->matches the digits only and returns the first matching digit"
   ]
  },
  {
   "cell_type": "code",
   "execution_count": 54,
   "metadata": {},
   "outputs": [
    {
     "data": {
      "text/plain": [
       "<re.Match object; span=(4, 5), match='4'>"
      ]
     },
     "execution_count": 54,
     "metadata": {},
     "output_type": "execute_result"
    }
   ],
   "source": [
    "a='Gopi450'\n",
    "re.search('\\d',a)"
   ]
  },
  {
   "cell_type": "code",
   "execution_count": 56,
   "metadata": {},
   "outputs": [
    {
     "data": {
      "text/plain": [
       "<re.Match object; span=(4, 7), match='450'>"
      ]
     },
     "execution_count": 56,
     "metadata": {},
     "output_type": "execute_result"
    }
   ],
   "source": [
    "a='Gopi450' # how to print numbers that are in sequence\n",
    "re.search('\\d+',a)\n"
   ]
  },
  {
   "cell_type": "code",
   "execution_count": 60,
   "metadata": {},
   "outputs": [
    {
     "data": {
      "text/plain": [
       "['450', '5000']"
      ]
     },
     "execution_count": 60,
     "metadata": {},
     "output_type": "execute_result"
    }
   ],
   "source": [
    "a='450gopi5000'\n",
    "re.search('\\d+',a)\n",
    "re.findall('\\d+',a)"
   ]
  },
  {
   "cell_type": "markdown",
   "metadata": {},
   "source": [
    "## \\D --> matches the characters which are not digits"
   ]
  },
  {
   "cell_type": "code",
   "execution_count": 66,
   "metadata": {},
   "outputs": [
    {
     "data": {
      "text/plain": [
       "<re.Match object; span=(3, 4), match='g'>"
      ]
     },
     "execution_count": 66,
     "metadata": {},
     "output_type": "execute_result"
    }
   ],
   "source": [
    "a='450godsafadspi5000'\n",
    "re.search('\\D',a)"
   ]
  },
  {
   "cell_type": "code",
   "execution_count": 64,
   "metadata": {},
   "outputs": [],
   "source": [
    "a='23445234'\n",
    "re.search('\\D+',a)"
   ]
  },
  {
   "cell_type": "code",
   "execution_count": 68,
   "metadata": {},
   "outputs": [
    {
     "data": {
      "text/plain": [
       "<re.Match object; span=(0, 5), match='gopi@'>"
      ]
     },
     "execution_count": 68,
     "metadata": {},
     "output_type": "execute_result"
    }
   ],
   "source": [
    "a='gopi@450sdfa'\n",
    "re.search('\\D+',a)"
   ]
  },
  {
   "cell_type": "code",
   "execution_count": 69,
   "metadata": {},
   "outputs": [
    {
     "data": {
      "text/plain": [
       "['fopadfijawepor#', 'q', 'dslfja']"
      ]
     },
     "execution_count": 69,
     "metadata": {},
     "output_type": "execute_result"
    }
   ],
   "source": [
    "a='fopadfijawepor#5q245dslfja'\n",
    "re.findall('\\D+',a)"
   ]
  },
  {
   "cell_type": "markdown",
   "metadata": {},
   "source": [
    "## \\W --> matches the special characters"
   ]
  },
  {
   "cell_type": "code",
   "execution_count": 71,
   "metadata": {},
   "outputs": [
    {
     "data": {
      "text/plain": [
       "<re.Match object; span=(14, 15), match='#'>"
      ]
     },
     "execution_count": 71,
     "metadata": {},
     "output_type": "execute_result"
    }
   ],
   "source": [
    "a='fopadfijawepor#5q245dslfja'\n",
    "re.search('\\W',a)                         # * indicates matching from start\n"
   ]
  },
  {
   "cell_type": "code",
   "execution_count": null,
   "metadata": {},
   "outputs": [],
   "source": []
  }
 ],
 "metadata": {
  "kernelspec": {
   "display_name": "Python 3",
   "language": "python",
   "name": "python3"
  },
  "language_info": {
   "codemirror_mode": {
    "name": "ipython",
    "version": 3
   },
   "file_extension": ".py",
   "mimetype": "text/x-python",
   "name": "python",
   "nbconvert_exporter": "python",
   "pygments_lexer": "ipython3",
   "version": "3.8.5"
  }
 },
 "nbformat": 4,
 "nbformat_minor": 4
}
